{
 "cells": [
  {
   "cell_type": "code",
   "execution_count": 1,
   "metadata": {},
   "outputs": [],
   "source": [
    "import spotipy\n",
    "from spotipy.oauth2 import SpotifyClientCredentials\n",
    "import pandas as pd\n",
    "from dotenv import load_dotenv\n",
    "import os\n",
    "\n",
    "load_dotenv()\n",
    "\n",
    "CLIENT_ID = os.getenv(\"CLIENT_ID\")\n",
    "CLIENT_SECRET = os.getenv(\"CLIENT_SECRET\")\n",
    "\n",
    "auth_manager = SpotifyClientCredentials(CLIENT_ID, CLIENT_SECRET)\n",
    "\n",
    "spotify = spotipy.Spotify(auth_manager=auth_manager)"
   ]
  },
  {
   "cell_type": "code",
   "execution_count": null,
   "metadata": {},
   "outputs": [],
   "source": [
    "\"\"\"\n",
    "Get playlist ids\n",
    "\"\"\"\n",
    "\n",
    "# this needs to be fixed to get more playlists\n",
    "playlists = spotify.featured_playlists(locale=\"en_GB\", country=\"GB\", timestamp=None, limit=50, offset=0)\n",
    "playlist_ids = [playlist.get(\"id\") for playlist in playlists.get(\"playlists\").get(\"items\")]"
   ]
  },
  {
   "cell_type": "code",
   "execution_count": null,
   "metadata": {},
   "outputs": [],
   "source": [
    "\"\"\"\n",
    "create data dictionary\n",
    "\"\"\"\n",
    "data_list = []\n",
    "playlist_dictionary = dict()\n",
    "\n",
    "for playlist_id in playlist_ids: \n",
    "    \n",
    "    playlist_tracks = spotify.playlist_tracks(playlist_id)\n",
    "    playlist_tracks = playlist_tracks.get(\"items\")\n",
    "    \n",
    "    playlist = []\n",
    "        \n",
    "    for playlist_track in playlist_tracks:\n",
    "        track_dict = dict()\n",
    "        # get artist names and ids\n",
    "        if playlist_track.get('track'):\n",
    "            artist = [(artist.get('name'), artist.get('id')) for artist in playlist_track.get('track').get(\"artists\")]\n",
    "            # get song name and ids\n",
    "            song_name = playlist_track.get('track').get(\"name\")\n",
    "            song_id = playlist_track.get('track').get(\"id\")\n",
    "        else:\n",
    "            artist = None\n",
    "            song_name, song_id = None, None\n",
    "        track_dict = {\"artist\": artist, \"song_id\": song_id, \"song_name\": song_name}\n",
    "        playlist.append(track_dict)\n",
    "    playlist_dictionary[playlist_id] = playlist\n",
    "    "
   ]
  },
  {
   "cell_type": "code",
   "execution_count": null,
   "metadata": {},
   "outputs": [],
   "source": [
    "\"\"\"\n",
    "create data df\n",
    "\"\"\"\n",
    "df = pd.DataFrame(columns=['song_name', 'song_id', 'artist', 'playlist'])\n",
    "for playlist, songs in playlist_dictionary.items():\n",
    "    for song_info in songs:\n",
    "        artist = str(song_info['artist'])\n",
    "        song_name = song_info['song_name']\n",
    "        song_id = song_info['song_id']\n",
    "        df = df.append({'playlist': playlist, 'song_name': song_name, 'song_id': song_id, 'artist': artist}, ignore_index=True)"
   ]
  },
  {
   "cell_type": "code",
   "execution_count": null,
   "metadata": {},
   "outputs": [],
   "source": [
    "\"\"\"\n",
    "ensure song uniqueness\n",
    "\"\"\"\n",
    "\n",
    "grouped_df = df.groupby(['song_name', 'song_id', 'artist'])['playlist'].apply(list).reset_index()"
   ]
  },
  {
   "cell_type": "code",
   "execution_count": null,
   "metadata": {},
   "outputs": [],
   "source": [
    "grouped_df.song_id.nunique()"
   ]
  },
  {
   "cell_type": "code",
   "execution_count": null,
   "metadata": {},
   "outputs": [],
   "source": [
    "grouped_df.sample(10)"
   ]
  }
 ],
 "metadata": {
  "kernelspec": {
   "display_name": "Python 3 (ipykernel)",
   "language": "python",
   "name": "python3"
  },
  "language_info": {
   "codemirror_mode": {
    "name": "ipython",
    "version": 3
   },
   "file_extension": ".py",
   "mimetype": "text/x-python",
   "name": "python",
   "nbconvert_exporter": "python",
   "pygments_lexer": "ipython3",
   "version": "3.11.5"
  }
 },
 "nbformat": 4,
 "nbformat_minor": 4
}
