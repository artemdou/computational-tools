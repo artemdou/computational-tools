{
 "cells": [
  {
   "cell_type": "code",
   "execution_count": null,
   "id": "f47bc07d",
   "metadata": {},
   "outputs": [],
   "source": [
    "#imports\n",
    "\n",
    "import pandas as pd\n",
    "import re\n",
    "from textblob import TextBlob\n",
    "import numpy as np\n",
    "from scipy.stats import shapiro\n",
    "\n",
    "\n",
    "from sklearn.preprocessing import LabelEncoder\n",
    "from sklearn.model_selection import train_test_split\n",
    "from sklearn.svm import SVC\n",
    "from sklearn.naive_bayes import MultinomialNB\n",
    "from sklearn.linear_model import LogisticRegression\n",
    "from sklearn.ensemble import RandomForestClassifier\n",
    "\n",
    "from sklearn.model_selection import GridSearchCV\n",
    "from sklearn.feature_extraction.text import TfidfVectorizer\n",
    "\n",
    "from sklearn.dummy import DummyClassifier\n",
    "from sklearn.metrics import accuracy_score, precision_recall_fscore_support\n",
    "from scipy.stats import ttest_rel\n",
    "from sklearn.model_selection import cross_val_score\n",
    "from sklearn.metrics import confusion_matrix\n",
    "\n",
    "from imblearn.under_sampling import RandomUnderSampler"
   ]
  },
  {
   "cell_type": "markdown",
   "id": "20e371ca",
   "metadata": {},
   "source": [
    "# Retrieving and preprocessing the data"
   ]
  },
  {
   "cell_type": "markdown",
   "id": "8a4265f4",
   "metadata": {},
   "source": [
    "## Spotify playlist and track retrieval"
   ]
  },
  {
   "cell_type": "code",
   "execution_count": null,
   "id": "21e5867c",
   "metadata": {},
   "outputs": [],
   "source": []
  },
  {
   "cell_type": "markdown",
   "id": "11ea218a",
   "metadata": {},
   "source": [
    "## Genius lyrics retrieval"
   ]
  },
  {
   "cell_type": "code",
   "execution_count": null,
   "id": "e3653069",
   "metadata": {},
   "outputs": [],
   "source": []
  },
  {
   "cell_type": "markdown",
   "id": "9f01ff8b",
   "metadata": {},
   "source": [
    "## Spotify song audio features retrieval"
   ]
  },
  {
   "cell_type": "code",
   "execution_count": null,
   "id": "ed3ca64e",
   "metadata": {},
   "outputs": [],
   "source": []
  },
  {
   "cell_type": "markdown",
   "id": "be825873",
   "metadata": {},
   "source": [
    "# Data exploration"
   ]
  },
  {
   "cell_type": "markdown",
   "id": "a9d12c7c",
   "metadata": {},
   "source": [
    "## General exploration"
   ]
  },
  {
   "cell_type": "code",
   "execution_count": null,
   "id": "9892054f",
   "metadata": {},
   "outputs": [],
   "source": [
    "# giannis"
   ]
  },
  {
   "cell_type": "markdown",
   "id": "5b3625e8",
   "metadata": {},
   "source": [
    "## Apriori analysis"
   ]
  },
  {
   "cell_type": "code",
   "execution_count": null,
   "id": "b1488cc6",
   "metadata": {},
   "outputs": [],
   "source": [
    "# giannis"
   ]
  },
  {
   "cell_type": "markdown",
   "id": "1f56112e",
   "metadata": {},
   "source": [
    "# Lyric sentiment analysis"
   ]
  },
  {
   "cell_type": "markdown",
   "id": "57458e22",
   "metadata": {},
   "source": [
    "## Data labeling"
   ]
  },
  {
   "cell_type": "code",
   "execution_count": null,
   "id": "1b3cd521",
   "metadata": {},
   "outputs": [],
   "source": [
    "#artemis"
   ]
  },
  {
   "cell_type": "markdown",
   "id": "78d47ec4",
   "metadata": {},
   "source": [
    "## Classification Modeling"
   ]
  },
  {
   "cell_type": "markdown",
   "id": "a89968b3",
   "metadata": {},
   "source": [
    "# Audio feature based clustering"
   ]
  },
  {
   "cell_type": "code",
   "execution_count": null,
   "id": "da123ba5",
   "metadata": {},
   "outputs": [],
   "source": [
    "#georgia & konstantina"
   ]
  },
  {
   "cell_type": "code",
   "execution_count": null,
   "id": "565ceaf5",
   "metadata": {},
   "outputs": [],
   "source": []
  }
 ],
 "metadata": {
  "kernelspec": {
   "display_name": "Python 3 (ipykernel)",
   "language": "python",
   "name": "python3"
  },
  "language_info": {
   "codemirror_mode": {
    "name": "ipython",
    "version": 3
   },
   "file_extension": ".py",
   "mimetype": "text/x-python",
   "name": "python",
   "nbconvert_exporter": "python",
   "pygments_lexer": "ipython3",
   "version": "3.11.5"
  }
 },
 "nbformat": 4,
 "nbformat_minor": 5
}
